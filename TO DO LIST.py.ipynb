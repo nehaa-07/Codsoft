{
 "cells": [
  {
   "cell_type": "code",
   "execution_count": 2,
   "id": "1ab30e5b-0d08-4185-a24b-5c7d37e6383b",
   "metadata": {},
   "outputs": [
    {
     "name": "stdout",
     "output_type": "stream",
     "text": [
      "\n",
      "To-Do List Menu:\n",
      "1. Show Tasks\n",
      "2. Add Task\n",
      "3. Remove Task\n",
      "4. Exit\n"
     ]
    },
    {
     "name": "stdin",
     "output_type": "stream",
     "text": [
      "Choose an option (1-4):  1\n"
     ]
    },
    {
     "name": "stdout",
     "output_type": "stream",
     "text": [
      "\n",
      "Your To-Do List:\n",
      "No tasks yet.\n",
      "\n",
      "To-Do List Menu:\n",
      "1. Show Tasks\n",
      "2. Add Task\n",
      "3. Remove Task\n",
      "4. Exit\n"
     ]
    },
    {
     "name": "stdin",
     "output_type": "stream",
     "text": [
      "Choose an option (1-4):  2\n",
      "Enter a task:  reading\n"
     ]
    },
    {
     "name": "stdout",
     "output_type": "stream",
     "text": [
      "Task added!\n",
      "\n",
      "To-Do List Menu:\n",
      "1. Show Tasks\n",
      "2. Add Task\n",
      "3. Remove Task\n",
      "4. Exit\n"
     ]
    },
    {
     "name": "stdin",
     "output_type": "stream",
     "text": [
      "Choose an option (1-4):  3\n"
     ]
    },
    {
     "name": "stdout",
     "output_type": "stream",
     "text": [
      "\n",
      "Your To-Do List:\n",
      "1. reading\n"
     ]
    },
    {
     "name": "stdin",
     "output_type": "stream",
     "text": [
      "Enter the task number to remove:  1\n"
     ]
    },
    {
     "name": "stdout",
     "output_type": "stream",
     "text": [
      "Task removed.\n",
      "\n",
      "To-Do List Menu:\n",
      "1. Show Tasks\n",
      "2. Add Task\n",
      "3. Remove Task\n",
      "4. Exit\n"
     ]
    },
    {
     "name": "stdin",
     "output_type": "stream",
     "text": [
      "Choose an option (1-4):  4\n"
     ]
    },
    {
     "name": "stdout",
     "output_type": "stream",
     "text": [
      "Exiting... Goodbye!\n"
     ]
    }
   ],
   "source": [
    "#task 1\n",
    "#function to show tasks\n",
    "tasks = []\n",
    "def show_tasks():\n",
    "    print(\"\\nYour To-Do List:\")\n",
    "    if not tasks:\n",
    "        print(\"No tasks yet.\")\n",
    "    else:\n",
    "        for i, task in enumerate(tasks, 1):\n",
    "            print(f\"{i}. {task}\")\n",
    "\n",
    "#function to add tasks in list\n",
    "def add_task():\n",
    "    task = input(\"Enter a task: \")\n",
    "    tasks.append(task)\n",
    "    print(\"Task added!\")\n",
    "\n",
    "#function to remove any task\n",
    "def remove_task():\n",
    "    show_tasks()\n",
    "    try:\n",
    "        num = int(input(\"Enter the task number to remove: \"))\n",
    "        tasks.pop(num - 1)\n",
    "        print(\"Task removed.\")\n",
    "    except (IndexError, ValueError):\n",
    "        print(\"Invalid task number.\")\n",
    "        \n",
    "while True:\n",
    "    print(\"\\nTo-Do List Menu:\")\n",
    "    print(\"1. Show Tasks\\n2. Add Task\\n3. Remove Task\\n4. Exit\")\n",
    "    choice = input(\"Choose an option (1-4): \")\n",
    "\n",
    "    if choice == '1':\n",
    "        show_tasks()\n",
    "    elif choice == '2':\n",
    "        add_task()\n",
    "    elif choice == '3':\n",
    "        remove_task()\n",
    "    elif choice == '4':\n",
    "        print(\"Exiting... Goodbye!\")\n",
    "        break\n",
    "    else:\n",
    "        print(\"Invalid choice.\")\n",
    "        "
   ]
  },
  {
   "cell_type": "code",
   "execution_count": null,
   "id": "966c8c5d-088b-4c06-b789-069a1377858a",
   "metadata": {},
   "outputs": [],
   "source": []
  }
 ],
 "metadata": {
  "kernelspec": {
   "display_name": "Python 3 (ipykernel)",
   "language": "python",
   "name": "python3"
  },
  "language_info": {
   "codemirror_mode": {
    "name": "ipython",
    "version": 3
   },
   "file_extension": ".py",
   "mimetype": "text/x-python",
   "name": "python",
   "nbconvert_exporter": "python",
   "pygments_lexer": "ipython3",
   "version": "3.13.5"
  }
 },
 "nbformat": 4,
 "nbformat_minor": 5
}
